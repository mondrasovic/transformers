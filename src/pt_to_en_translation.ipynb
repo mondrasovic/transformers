{
 "cells": [
  {
   "cell_type": "code",
   "execution_count": 1,
   "metadata": {},
   "outputs": [
    {
     "name": "stderr",
     "output_type": "stream",
     "text": [
      "2023-03-22 07:04:24.403872: I tensorflow/core/platform/cpu_feature_guard.cc:193] This TensorFlow binary is optimized with oneAPI Deep Neural Network Library (oneDNN) to use the following CPU instructions in performance-critical operations:  AVX2 FMA\n",
      "To enable them in other operations, rebuild TensorFlow with the appropriate compiler flags.\n",
      "2023-03-22 07:04:25.048902: W tensorflow/compiler/xla/stream_executor/platform/default/dso_loader.cc:64] Could not load dynamic library 'libnvinfer.so.7'; dlerror: libnvinfer.so.7: cannot open shared object file: No such file or directory\n",
      "2023-03-22 07:04:25.048973: W tensorflow/compiler/xla/stream_executor/platform/default/dso_loader.cc:64] Could not load dynamic library 'libnvinfer_plugin.so.7'; dlerror: libnvinfer_plugin.so.7: cannot open shared object file: No such file or directory\n",
      "2023-03-22 07:04:25.048979: W tensorflow/compiler/tf2tensorrt/utils/py_utils.cc:38] TF-TRT Warning: Cannot dlopen some TensorRT libraries. If you would like to use Nvidia GPU with TensorRT, please make sure the missing libraries mentioned above are installed properly.\n"
     ]
    }
   ],
   "source": [
    "import logging\n",
    "import time\n",
    "\n",
    "import numpy as np\n",
    "import matplotlib.pyplot as plt\n",
    "\n",
    "import tensorflow_datasets as tfds\n",
    "import tensorflow as tf\n",
    "\n",
    "import tensorflow_text"
   ]
  },
  {
   "cell_type": "code",
   "execution_count": 2,
   "metadata": {},
   "outputs": [
    {
     "name": "stderr",
     "output_type": "stream",
     "text": [
      "2023-03-22 07:04:26.255548: I tensorflow/compiler/xla/stream_executor/cuda/cuda_gpu_executor.cc:967] could not open file to read NUMA node: /sys/bus/pci/devices/0000:01:00.0/numa_node\n",
      "Your kernel may have been built without NUMA support.\n",
      "2023-03-22 07:04:26.261770: W tensorflow/compiler/xla/stream_executor/platform/default/dso_loader.cc:64] Could not load dynamic library 'libcudnn.so.8'; dlerror: libcudnn.so.8: cannot open shared object file: No such file or directory\n",
      "2023-03-22 07:04:26.261792: W tensorflow/core/common_runtime/gpu/gpu_device.cc:1934] Cannot dlopen some GPU libraries. Please make sure the missing libraries mentioned above are installed properly if you would like to use GPU. Follow the guide at https://www.tensorflow.org/install/gpu for how to download and setup the required libraries for your platform.\n",
      "Skipping registering GPU devices...\n",
      "2023-03-22 07:04:26.262622: I tensorflow/core/platform/cpu_feature_guard.cc:193] This TensorFlow binary is optimized with oneAPI Deep Neural Network Library (oneDNN) to use the following CPU instructions in performance-critical operations:  AVX2 FMA\n",
      "To enable them in other operations, rebuild TensorFlow with the appropriate compiler flags.\n"
     ]
    }
   ],
   "source": [
    "examples, metadata = tfds.load(\n",
    "    \"ted_hrlr_translate/pt_to_en\",\n",
    "    data_dir=\"/home/mond/tensorflow_datasets/\",\n",
    "    with_info=True,\n",
    "    as_supervised=True,\n",
    ")\n",
    "\n",
    "train_examples, val_examples = examples[\"train\"], examples[\"validation\"]"
   ]
  },
  {
   "cell_type": "code",
   "execution_count": 3,
   "metadata": {},
   "outputs": [
    {
     "data": {
      "text/plain": [
       "<PrefetchDataset element_spec=(TensorSpec(shape=(), dtype=tf.string, name=None), TensorSpec(shape=(), dtype=tf.string, name=None))>"
      ]
     },
     "execution_count": 3,
     "metadata": {},
     "output_type": "execute_result"
    }
   ],
   "source": [
    "train_examples"
   ]
  },
  {
   "cell_type": "code",
   "execution_count": 5,
   "metadata": {},
   "outputs": [
    {
     "name": "stdout",
     "output_type": "stream",
     "text": [
      "> Examples in Portuguese:\n",
      "e quando melhoramos a procura , tiramos a única vantagem da impressão , que é a serendipidade .\n",
      "mas e se estes fatores fossem ativos ?\n",
      "mas eles não tinham a curiosidade de me testar .\n",
      "\n",
      "> Examples in English:\n",
      "and when you improve searchability , you actually take away the one advantage of print , which is serendipity .\n",
      "but what if it were active ?\n",
      "but they did n't test for curiosity .\n"
     ]
    },
    {
     "name": "stderr",
     "output_type": "stream",
     "text": [
      "2023-03-22 07:06:17.967710: W tensorflow/core/kernels/data/cache_dataset_ops.cc:856] The calling iterator did not fully read the dataset being cached. In order to avoid unexpected truncation of the dataset, the partially cached contents of the dataset  will be discarded. This can happen if you have an input pipeline similar to `dataset.cache().take(k).repeat()`. You should use `dataset.take(k).cache().repeat()` instead.\n"
     ]
    }
   ],
   "source": [
    "for pt_examples, en_examples in train_examples.batch(3).take(1):\n",
    "    print(\"> Examples in Portuguese:\")\n",
    "    for pt in pt_examples.numpy():\n",
    "        print(pt.decode(\"utf-8\"))\n",
    "    print()\n",
    "\n",
    "    print(\"> Examples in English:\")\n",
    "    for en in en_examples.numpy():\n",
    "        print(en.decode(\"utf-8\"))"
   ]
  },
  {
   "cell_type": "code",
   "execution_count": 1,
   "metadata": {},
   "outputs": [],
   "source": [
    "import torch\n",
    "import torch.nn as nn\n",
    "\n",
    "class MultiHeadAttention(nn.Module):\n",
    "    def __init__(self, emb_size, n_heads):\n",
    "        super().__init__()\n",
    "\n",
    "        assert emb_size % n_heads == 0, \"`emb_size` needs to be divisible by `n_heads`\"\n",
    "        self.emb_size = emb_size\n",
    "        self.n_heads = n_heads\n",
    "        self.head_dim = emb_size // self.n_heads\n",
    "\n",
    "        self.values = nn.Linear(in_features=self.head_dim, out_features=self.head_dim, bias=False)\n",
    "        self.keys = nn.Linear(in_features=self.head_dim, out_features=self.head_dim, bias=False)\n",
    "        self.queries = nn.Linear(in_features=self.head_dim, out_features=self.head_dim, bias=False)\n",
    "        self.fc_out = nn.Linear(in_features=self.emb_size, out_features=self.emb_size)\n",
    "    \n",
    "    def forward(self, queries, keys, values, mask):\n",
    "        n_samples = queries.shape[0]\n",
    "        query_length, key_length, value_length = queries.shape[1], keys.shape[1], values.shape[1]\n",
    "\n",
    "        # Split embedding into `self.n_heads` pieces\n",
    "        queries = queries.reshape(n_samples, query_length, self.n_heads, self.head_dim)\n",
    "        keys = keys.reshape(n_samples, key_length, self.n_heads, self.head_dim)\n",
    "        values = values.reshape(n_samples, value_length, self.n_heads, self.head_dim)\n",
    "\n",
    "        # queries shape: [n_samples, query_length, n_heads, heads_dim]\n",
    "        # keys shape: [n_samples, key_length, n_heads, heads_dim]\n",
    "        # energy shape: [n_samples, n_heads, query_length, key_length]\n",
    "        energy = torch.einsum(\"nqhd,nkhd->nhqk\", queries, keys)\n",
    "        if mask is not None:\n",
    "            energy = energy.masked_fill(mask == 0, float(\"-1e20\"))\n",
    "        \n",
    "        attention = torch.softmax(energy / torch.sqrt(self.emb_size), dim=3)\n",
    "\n",
    "        # attention shape: [n_samples, n_heads, query_length, key_length]\n",
    "        # values shape: [n_samples, value_length, n_heads, heads_dim]\n",
    "        # output shape: [n_samples, query_length, n_heads, heads_dim]\n",
    "        output = torch.einsum(\"nhql,nlhd->nqhd\", attention, values).reshape(\n",
    "            n_samples, query_length, self.emb_size\n",
    "        )\n",
    "        output = self.fc_out(output)\n",
    "\n",
    "        return output\n",
    "\n",
    "class TransformerBlock(nn.Module):\n",
    "    def __init__(self, emb_size, n_heads, dropout_p, forward_expansion):\n",
    "        super().__init__()\n",
    "\n",
    "        self.attention = MultiHeadAttention(emb_size, n_heads)\n",
    "        self.norm_1 = nn.LayerNorm(normalized_shape=emb_size)\n",
    "        self.norm_2 = nn.LayerNorm(normalized_shape=emb_size)\n",
    "\n",
    "        self.feed_forward = nn.Sequential(\n",
    "            nn.Linear(in_features=emb_size, out_features=forward_expansion * emb_size),\n",
    "            nn.ReLU(inplace=True),\n",
    "            nn.Linear(in_features=forward_expansion * emb_size, out_features=emb_size)\n",
    "        )\n",
    "        self.dropout = nn.Dropout(p=dropout_p)\n",
    "    \n",
    "    def forward(self, queries, keys, values, mask):\n",
    "        attention = self.attention(queries, keys, values, mask)\n",
    "        x = self.dropout(self.norm_1(attention + queries))\n",
    "        forward = self.feed_forward(x)\n",
    "        output = self.dropout(self.norm_2(forward + x))\n",
    "\n",
    "        return output\n",
    "\n",
    "class Encoder(nn.Module):\n",
    "    def __init__(\n",
    "            self,\n",
    "            src_vocab_size,\n",
    "            emb_size,\n",
    "            n_layers,\n",
    "            n_heads,\n",
    "            forward_expansion,\n",
    "            dropout_p,\n",
    "            max_length,\n",
    "            device\n",
    "        ):\n",
    "        super().__init__()\n",
    "\n",
    "        self.emb_size = emb_size\n",
    "        self.device = device\n",
    "        self.word_embedding = nn.Embedding(\n",
    "            num_embeddings=src_vocab_size, embedding_dim=self.emb_size\n",
    "        )\n",
    "        self.position_embedding = nn.Embedding(\n",
    "            num_embeddings=max_length, embedding_dim=self.emb_size\n",
    "        )\n",
    "\n",
    "        self.layers = nn.ModuleList(\n",
    "            [\n",
    "                TransformerBlock(emb_size, n_heads, dropout_p, forward_expansion)\n",
    "                for _ in range(n_layers)\n",
    "            ]\n",
    "        )\n",
    "        self.dropout = nn.Dropout(p=dropout_p)\n",
    "    \n",
    "    def forward(self, x, mask):\n",
    "        n_samples, seq_length = x.shape\n",
    "        positions = torch.arange(0, seq_length).expand(n_samples, seq_length).to(self.device)\n",
    "        output = self.dropout(self.word_embedding(x) + self.position_embedding(positions))\n",
    "\n",
    "        for layer in self.layers:\n",
    "            output = layer(output, output, output, mask)\n",
    "        \n",
    "        return output\n"
   ]
  },
  {
   "cell_type": "code",
   "execution_count": 14,
   "metadata": {},
   "outputs": [
    {
     "data": {
      "text/plain": [
       "tensor([[0, 1, 2, 3, 4],\n",
       "        [0, 1, 2, 3, 4],\n",
       "        [0, 1, 2, 3, 4],\n",
       "        [0, 1, 2, 3, 4],\n",
       "        [0, 1, 2, 3, 4],\n",
       "        [0, 1, 2, 3, 4],\n",
       "        [0, 1, 2, 3, 4],\n",
       "        [0, 1, 2, 3, 4],\n",
       "        [0, 1, 2, 3, 4],\n",
       "        [0, 1, 2, 3, 4]])"
      ]
     },
     "execution_count": 14,
     "metadata": {},
     "output_type": "execute_result"
    }
   ],
   "source": [
    "n_samples, seq_length = 10, 5\n",
    "torch.arange(0, seq_length).expand(n_samples, seq_length)"
   ]
  },
  {
   "cell_type": "code",
   "execution_count": 15,
   "metadata": {},
   "outputs": [
    {
     "data": {
      "text/plain": [
       "torch.Size([4, 8, 2])"
      ]
     },
     "execution_count": 15,
     "metadata": {},
     "output_type": "execute_result"
    }
   ],
   "source": [
    "torch.manual_seed(1337)\n",
    "B, T, C = 4, 8, 2\n",
    "x = torch.randn(B, T, C)\n",
    "x.shape"
   ]
  },
  {
   "cell_type": "code",
   "execution_count": 19,
   "metadata": {},
   "outputs": [
    {
     "data": {
      "text/plain": [
       "tensor([[ 0.1808, -0.0700],\n",
       "        [-0.3596, -0.9152],\n",
       "        [ 0.6258,  0.0255],\n",
       "        [ 0.9545,  0.0643],\n",
       "        [ 0.3612,  1.1679],\n",
       "        [-1.3499, -0.5102],\n",
       "        [ 0.2360, -0.2398],\n",
       "        [-0.9211,  1.5433]])"
      ]
     },
     "execution_count": 19,
     "metadata": {},
     "output_type": "execute_result"
    }
   ],
   "source": [
    "x[0]"
   ]
  },
  {
   "cell_type": "code",
   "execution_count": 20,
   "metadata": {},
   "outputs": [
    {
     "data": {
      "text/plain": [
       "tensor([[ 0.1808, -0.0700],\n",
       "        [-0.0894, -0.4926],\n",
       "        [ 0.1490, -0.3199],\n",
       "        [ 0.3504, -0.2238],\n",
       "        [ 0.3525,  0.0545],\n",
       "        [ 0.0688, -0.0396],\n",
       "        [ 0.0927, -0.0682],\n",
       "        [-0.0341,  0.1332]])"
      ]
     },
     "execution_count": 20,
     "metadata": {},
     "output_type": "execute_result"
    }
   ],
   "source": [
    "x_bow = torch.zeros((B, T, C))\n",
    "for b in range(B):\n",
    "    for t in range(T):\n",
    "        x_prev = x[b, :t + 1]  # [t, C]\n",
    "        x_bow[b, t] = torch.mean(x_prev, dim=0)\n",
    "\n",
    "x_bow[0]"
   ]
  },
  {
   "cell_type": "code",
   "execution_count": null,
   "metadata": {},
   "outputs": [],
   "source": []
  },
  {
   "cell_type": "code",
   "execution_count": 26,
   "metadata": {},
   "outputs": [],
   "source": [
    "x_tmp = (x[0] @ torch.tril(torch.ones(T, T)) / torch.unsqueeze(torch.arange(1, T + 1), dim=0))\n",
    "assert torch.allclose(x_tmp, x_bow[0])\n"
   ]
  }
 ],
 "metadata": {
  "kernelspec": {
   "display_name": "ml",
   "language": "python",
   "name": "python3"
  },
  "language_info": {
   "codemirror_mode": {
    "name": "ipython",
    "version": 3
   },
   "file_extension": ".py",
   "mimetype": "text/x-python",
   "name": "python",
   "nbconvert_exporter": "python",
   "pygments_lexer": "ipython3",
   "version": "3.10.6"
  },
  "orig_nbformat": 4
 },
 "nbformat": 4,
 "nbformat_minor": 2
}
